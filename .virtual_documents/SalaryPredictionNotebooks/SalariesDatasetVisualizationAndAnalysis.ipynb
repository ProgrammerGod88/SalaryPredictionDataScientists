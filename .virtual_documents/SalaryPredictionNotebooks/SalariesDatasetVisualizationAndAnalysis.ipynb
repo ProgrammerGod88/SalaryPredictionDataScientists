# Data Manipulation
import pandas as pd
import numpy as np

# Data Visualization
import matplotlib.pyplot as plt      
import seaborn as sns                
import plotly.express as px          

# Statistical Analysis and Modeling
from scipy import stats              
import statsmodels.api as sm


df = pd.read_csv("/mnt/d/SalaryPredictionDataScientists/SalariesData/DataScience_salaries_2024.csv")


print(df.head())          
print(df.info())          
print(df.describe())      


df.isnull().sum()


df.drop_duplicates(inplace=True)


# Plot the histogram and set x-axis limits
sns.histplot(df['salary'], bins=2500)
plt.title('Salary Distribution')
plt.xlabel('Salary')
plt.xlim(0, 500000)  # Limit x-axis to the range 0 to 300,000
plt.show()

print("Min Salary:", df['salary'].min())
print("Max Salary:", df['salary'].max())


# Select only the numeric columns for correlation calculation
numeric_df = df.select_dtypes(include=['number'])

# Plot the correlation matrix heatmap
plt.figure(figsize=(10, 8))
sns.heatmap(numeric_df.corr(), annot=True, cmap='coolwarm')
plt.title('Correlation Matrix')
plt.show()


plt.figure(figsize=(12, 10))  # Increase height to allow more space for labels

# Plot only the top 10 most common job titles for clarity
sns.countplot(y='job_title', data=df, order=df['job_title'].value_counts().index[:50])

plt.title('Distribution of Job Titles')
plt.xlabel('Count')
plt.ylabel('Job Title')

# Adjust font size for y-tick labels
plt.yticks(fontsize=10)

plt.show()



df = pd.get_dummies(df, columns=['experience_level', 'employment_type'])



# Check the count of each experience level
print(df['experience_level'].value_counts())



# Filter out experience levels with fewer than a certain threshold (e.g., 5 samples)
threshold = 5
filtered_df = df[df['experience_level'].map(df['experience_level'].value_counts()) >= threshold]

# Re-create the plot with the filtered data
fig = px.box(filtered_df, x="experience_level", y="salary", title="Salary Distribution by Experience Level")
fig.show()



# For instance, combining experience levels into fewer categories
df['experience_level_grouped'] = df['experience_level'].replace({
    'EN': 'Junior', 
    'MI': 'Mid', 
    'SE': 'Senior', 
    'EX': 'Senior'
})

# Plot using the combined groups
fig = px.box(df, x="experience_level_grouped", y="salary", title="Salary Distribution by Experience Level Group")
fig.show()



# Check the size of the dataset
print(f"Dataset size: {df.shape}")

# Drop rows with NaN values in relevant columns, if any
df = df.dropna(subset=['experience_level', 'salary'])



# Focus on a typical range of salaries
filtered_df = df[(df['salary'] >= 0) & (df['salary'] <= 300000)]

# Plot using Plotly
fig = px.box(filtered_df, x="experience_level", y="salary", title="Salary Distribution by Experience Level (0-300,000 Range)")
fig.show()





from scipy.stats import ttest_ind
t_stat, p_value = ttest_ind(df[df['experience_level'] == 'Senior']['salary'], 
                            df[df['experience_level'] == 'Entry']['salary'])
print("T-test:", t_stat, "P-value:", p_value)

