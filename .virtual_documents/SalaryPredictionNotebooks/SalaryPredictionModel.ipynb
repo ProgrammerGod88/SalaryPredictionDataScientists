# Data manipulation and analysis
import pandas as pd
import numpy as np

# Data visualization
import matplotlib.pyplot as plt
import seaborn as sns

# Scikit-learn for preprocessing and model evaluation
from sklearn.model_selection import train_test_split
from sklearn.preprocessing import StandardScaler, LabelEncoder
from sklearn.metrics import mean_absolute_error, mean_squared_error, r2_score

# TensorFlow and Keras for building the deep learning model
import tensorflow as tf
from tensorflow.keras.models import Sequential
from tensorflow.keras.layers import Dense, Dropout, BatchNormalization, Embedding, Flatten
from tensorflow.keras.callbacks import EarlyStopping

# Optional: XGBoost for model comparison (if needed)
import xgboost as xgb

# Set visualization styles
sns.set(style="whitegrid")



